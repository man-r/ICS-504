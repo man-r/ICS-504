{
 "cells": [
  {
   "cell_type": "code",
   "execution_count": 6,
   "id": "59d6515c",
   "metadata": {},
   "outputs": [
    {
     "data": {
      "application/json": {
       "ascii": false,
       "bar_format": null,
       "colour": null,
       "elapsed": 0.03076934814453125,
       "initial": 0,
       "n": 0,
       "ncols": null,
       "nrows": 29,
       "postfix": null,
       "prefix": "",
       "rate": null,
       "total": 51597,
       "unit": "it",
       "unit_divisor": 1000,
       "unit_scale": false
      },
      "application/vnd.jupyter.widget-view+json": {
       "model_id": "bc48f49629a246e18df645e4f4e2e679",
       "version_major": 2,
       "version_minor": 0
      },
      "text/plain": [
       "  0%|          | 0/51597 [00:00<?, ?it/s]"
      ]
     },
     "metadata": {},
     "output_type": "display_data"
    },
    {
     "ename": "KeyboardInterrupt",
     "evalue": "",
     "output_type": "error",
     "traceback": [
      "\u001b[1;31m---------------------------------------------------------------------------\u001b[0m",
      "\u001b[1;31mFileNotFoundError\u001b[0m                         Traceback (most recent call last)",
      "File \u001b[1;32m~\\AppData\\Local\\Programs\\Python\\Python39\\lib\\genericpath.py:19\u001b[0m, in \u001b[0;36mexists\u001b[1;34m(path)\u001b[0m\n\u001b[0;32m     18\u001b[0m \u001b[38;5;28;01mtry\u001b[39;00m:\n\u001b[1;32m---> 19\u001b[0m     \u001b[43mos\u001b[49m\u001b[38;5;241;43m.\u001b[39;49m\u001b[43mstat\u001b[49m\u001b[43m(\u001b[49m\u001b[43mpath\u001b[49m\u001b[43m)\u001b[49m\n\u001b[0;32m     20\u001b[0m \u001b[38;5;28;01mexcept\u001b[39;00m (\u001b[38;5;167;01mOSError\u001b[39;00m, \u001b[38;5;167;01mValueError\u001b[39;00m):\n",
      "\u001b[1;31mFileNotFoundError\u001b[0m: [WinError 2] The system cannot find the file specified: 'G:/My Drive/ICS504/github/ICS-504/download_images/CC1OEQLAiNLlMN3LUXrLbQ.jpg'",
      "\nDuring handling of the above exception, another exception occurred:\n",
      "\u001b[1;31mKeyboardInterrupt\u001b[0m                         Traceback (most recent call last)",
      "Input \u001b[1;32mIn [6]\u001b[0m, in \u001b[0;36m<cell line: 40>\u001b[1;34m()\u001b[0m\n\u001b[0;32m     40\u001b[0m \u001b[38;5;28;01mfor\u001b[39;00m pano_id \u001b[38;5;129;01min\u001b[39;00m tqdm(pano_list_df[\u001b[38;5;124m'\u001b[39m\u001b[38;5;124mPano_ID\u001b[39m\u001b[38;5;124m'\u001b[39m]):\n\u001b[0;32m     41\u001b[0m     df \u001b[38;5;241m=\u001b[39m csv_f\u001b[38;5;241m.\u001b[39mloc[csv_f[\u001b[38;5;124m'\u001b[39m\u001b[38;5;124mPano_ID\u001b[39m\u001b[38;5;124m'\u001b[39m] \u001b[38;5;241m==\u001b[39m pano_id]\n\u001b[1;32m---> 42\u001b[0m     \u001b[38;5;28;01mif\u001b[39;00m \u001b[43mos\u001b[49m\u001b[38;5;241;43m.\u001b[39;49m\u001b[43mpath\u001b[49m\u001b[38;5;241;43m.\u001b[39;49m\u001b[43mexists\u001b[49m\u001b[43m(\u001b[49m\u001b[38;5;124;43m'\u001b[39;49m\u001b[38;5;124;43mG:/My Drive/ICS504/github/ICS-504/download_images/\u001b[39;49m\u001b[38;5;124;43m'\u001b[39;49m\u001b[38;5;241;43m+\u001b[39;49m\u001b[43mpano_id\u001b[49m\u001b[38;5;241;43m+\u001b[39;49m\u001b[38;5;124;43m'\u001b[39;49m\u001b[38;5;124;43m.jpg\u001b[39;49m\u001b[38;5;124;43m'\u001b[39;49m\u001b[43m)\u001b[49m:\n\u001b[0;32m     43\u001b[0m         label \u001b[38;5;241m=\u001b[39m  \u001b[38;5;124m'\u001b[39m\u001b[38;5;124mG:/My Drive/ICS504/github/ICS-504/download_images/\u001b[39m\u001b[38;5;124m'\u001b[39m\u001b[38;5;241m+\u001b[39mpano_id\u001b[38;5;241m+\u001b[39m\u001b[38;5;124m'\u001b[39m\u001b[38;5;124m.jpg\u001b[39m\u001b[38;5;124m'\u001b[39m\n\u001b[0;32m     44\u001b[0m     \u001b[38;5;28;01melse\u001b[39;00m:\n",
      "File \u001b[1;32m~\\AppData\\Local\\Programs\\Python\\Python39\\lib\\genericpath.py:19\u001b[0m, in \u001b[0;36mexists\u001b[1;34m(path)\u001b[0m\n\u001b[0;32m     17\u001b[0m \u001b[38;5;124;03m\"\"\"Test whether a path exists.  Returns False for broken symbolic links\"\"\"\u001b[39;00m\n\u001b[0;32m     18\u001b[0m \u001b[38;5;28;01mtry\u001b[39;00m:\n\u001b[1;32m---> 19\u001b[0m     \u001b[43mos\u001b[49m\u001b[38;5;241;43m.\u001b[39;49m\u001b[43mstat\u001b[49m\u001b[43m(\u001b[49m\u001b[43mpath\u001b[49m\u001b[43m)\u001b[49m\n\u001b[0;32m     20\u001b[0m \u001b[38;5;28;01mexcept\u001b[39;00m (\u001b[38;5;167;01mOSError\u001b[39;00m, \u001b[38;5;167;01mValueError\u001b[39;00m):\n\u001b[0;32m     21\u001b[0m     \u001b[38;5;28;01mreturn\u001b[39;00m \u001b[38;5;28;01mFalse\u001b[39;00m\n",
      "\u001b[1;31mKeyboardInterrupt\u001b[0m: "
     ]
    }
   ],
   "source": [
    "\"\"\"\n",
    "** Crop Extractor for Project Sidewalk **\n",
    "\n",
    "Given label metadata from the Project Sidewalk database, this script will\n",
    "extract JPEG crops of the features that have been labeled. The required metadata\n",
    "may be obtained by running the SQL query in \"samples/getFullLabelList.sql\" on the\n",
    "Sidewalk database, and exporting the results in CSV format. You must supply the\n",
    "path to the CSV file containing this data below. You can find an example of what\n",
    "this file should look like in \"samples/labeldata.csv\".\n",
    "\n",
    "Additionally, you should have downloaded original panorama\n",
    "images from Street View using DownloadRunner.py. You will need to supply the\n",
    "path to the folder containing these files.\n",
    "\n",
    "\"\"\"\n",
    "import pandas as pd\n",
    "from tqdm.auto import tqdm\n",
    "import os as os\n",
    "\n",
    "# *****************************************\n",
    "# Update paths below                      *\n",
    "# *****************************************\n",
    "\n",
    "# Path to CSV data from database - Place in 'metadata'\n",
    "pano_list_path = 'G:/My Drive/ICS504/github/ICS-504/download_images/pano_list.csv'\n",
    "csv_export_path = \"./github/sidewalk-cv-assets19/new_old_dataset_csvs/Val.csv\"\n",
    "# Path to panoramas downloaded using DownloadRunner.py. Reference correct directory\n",
    "gsv_pano_path = \"./test/\"\n",
    "# Path to location for saving the crops\n",
    "destination_path = \"./crops/\"\n",
    "\n",
    "\n",
    "pano_list_df = pd.read_csv(pano_list_path)\n",
    "csv_f = pd.read_csv(csv_export_path)\n",
    "counter = 0\n",
    "no_metadata_fail = 0\n",
    "no_pano_fail = 0\n",
    "labels = []\n",
    "\n",
    "for pano_id in tqdm(pano_list_df['Pano_ID']):\n",
    "    df = csv_f.loc[csv_f['Pano_ID'] == pano_id]\n",
    "    if os.path.exists('G:/My Drive/ICS504/github/ICS-504/download_images/'+pano_id+'.jpg'):\n",
    "        label =  'G:/My Drive/ICS504/github/ICS-504/download_images/'+pano_id+'.jpg'\n",
    "    else:\n",
    "        label = 'no image'\n",
    "        \n",
    "    labels.append(label)    \n",
    "# bulk_extract_crops('./Test.csv', gsv_pano_path, destination_path, mark_label=False)\n",
    "# crop_box_helper(gsv_pano_path, csv_export_path) # not tested and validated with new code\n",
    "\n",
    "pano_list_df['path'] = labels\n"
   ]
  },
  {
   "cell_type": "code",
   "execution_count": 4,
   "id": "1365a2d5",
   "metadata": {},
   "outputs": [],
   "source": [
    "pano_list_df.head\n",
    "pano_list_df.to_csv('./pano_list_path2.csv')"
   ]
  },
  {
   "cell_type": "code",
   "execution_count": null,
   "id": "e5a2f360",
   "metadata": {},
   "outputs": [],
   "source": []
  }
 ],
 "metadata": {
  "kernelspec": {
   "display_name": "Python 3 (ipykernel)",
   "language": "python",
   "name": "python3"
  },
  "language_info": {
   "codemirror_mode": {
    "name": "ipython",
    "version": 3
   },
   "file_extension": ".py",
   "mimetype": "text/x-python",
   "name": "python",
   "nbconvert_exporter": "python",
   "pygments_lexer": "ipython3",
   "version": "3.9.7"
  }
 },
 "nbformat": 4,
 "nbformat_minor": 5
}
